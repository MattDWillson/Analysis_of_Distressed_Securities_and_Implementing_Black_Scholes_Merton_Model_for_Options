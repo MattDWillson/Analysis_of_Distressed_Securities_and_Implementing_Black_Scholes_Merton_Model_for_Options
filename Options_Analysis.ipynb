{
 "cells": [
  {
   "cell_type": "code",
   "execution_count": 1,
   "id": "72d4f0ba-8766-4640-b54b-0b5f36fc4dbb",
   "metadata": {},
   "outputs": [],
   "source": [
    "import pandas as pd\n",
    "import numpy as np\n",
    "from scipy.stats import norm\n",
    "import matplotlib.pyplot as plt\n",
    "import datetime as dt\n",
    "from pathlib import Path\n",
    "\n",
    "%matplotlib inline"
   ]
  },
  {
   "cell_type": "code",
   "execution_count": null,
   "id": "b0ff29f6-058b-4010-babc-12886d231aeb",
   "metadata": {},
   "outputs": [],
   "source": []
  },
  {
   "cell_type": "code",
   "execution_count": null,
   "id": "cedcd7cc-0be3-4177-b31d-e2bb1c052111",
   "metadata": {},
   "outputs": [],
   "source": []
  },
  {
   "cell_type": "code",
   "execution_count": 6,
   "id": "0aa7503b-4f2c-4a64-8793-f19ed367b6d4",
   "metadata": {},
   "outputs": [
    {
     "data": {
      "text/html": [
       "<div>\n",
       "<style scoped>\n",
       "    .dataframe tbody tr th:only-of-type {\n",
       "        vertical-align: middle;\n",
       "    }\n",
       "\n",
       "    .dataframe tbody tr th {\n",
       "        vertical-align: top;\n",
       "    }\n",
       "\n",
       "    .dataframe thead th {\n",
       "        text-align: right;\n",
       "    }\n",
       "</style>\n",
       "<table border=\"1\" class=\"dataframe\">\n",
       "  <thead>\n",
       "    <tr style=\"text-align: right;\">\n",
       "      <th></th>\n",
       "      <th>S&amp;P Options</th>\n",
       "    </tr>\n",
       "    <tr>\n",
       "      <th>Date</th>\n",
       "      <th></th>\n",
       "    </tr>\n",
       "  </thead>\n",
       "  <tbody>\n",
       "    <tr>\n",
       "      <th>2018-01-02</th>\n",
       "      <td>27.92</td>\n",
       "    </tr>\n",
       "    <tr>\n",
       "      <th>2018-01-03</th>\n",
       "      <td>28.09</td>\n",
       "    </tr>\n",
       "    <tr>\n",
       "      <th>2018-01-04</th>\n",
       "      <td>28.21</td>\n",
       "    </tr>\n",
       "    <tr>\n",
       "      <th>2018-01-05</th>\n",
       "      <td>28.41</td>\n",
       "    </tr>\n",
       "    <tr>\n",
       "      <th>2018-01-08</th>\n",
       "      <td>28.45</td>\n",
       "    </tr>\n",
       "  </tbody>\n",
       "</table>\n",
       "</div>"
      ],
      "text/plain": [
       "            S&P Options\n",
       "Date                   \n",
       "2018-01-02        27.92\n",
       "2018-01-03        28.09\n",
       "2018-01-04        28.21\n",
       "2018-01-05        28.41\n",
       "2018-01-08        28.45"
      ]
     },
     "execution_count": 6,
     "metadata": {},
     "output_type": "execute_result"
    }
   ],
   "source": [
    "#Read in Options Price Data for S&P500 (INX)\n",
    "\n",
    "csv_path = Path(\"./Options_Resources/S&P_Options_Price_Data.csv\")\n",
    "INX_Options_Price_Data = pd.read_csv(csv_path, index_col=\"Date\", infer_datetime_format=True, parse_dates=True)\n",
    "INX_Options_Price_Data.sort_index(inplace=True)\n",
    "INX_Options_Price_Data.columns = [\"S&P Options\"]\n",
    "INX_Options_Price_Data.head()"
   ]
  },
  {
   "cell_type": "code",
   "execution_count": null,
   "id": "dbd01cf5-bc82-454f-abf6-41f688cf230b",
   "metadata": {},
   "outputs": [],
   "source": [
    "#Visualize Option Prices\n",
    "INX_Option_Graph = (1 + all_daily_returns).cumprod()\n",
    "returns_comparison.plot(figsize=(20,10), title=\"Cumulative Returns All Portfolios\")\n"
   ]
  }
 ],
 "metadata": {
  "kernelspec": {
   "display_name": "Python 3",
   "language": "python",
   "name": "python3"
  },
  "language_info": {
   "codemirror_mode": {
    "name": "ipython",
    "version": 3
   },
   "file_extension": ".py",
   "mimetype": "text/x-python",
   "name": "python",
   "nbconvert_exporter": "python",
   "pygments_lexer": "ipython3",
   "version": "3.7.10"
  }
 },
 "nbformat": 4,
 "nbformat_minor": 5
}
